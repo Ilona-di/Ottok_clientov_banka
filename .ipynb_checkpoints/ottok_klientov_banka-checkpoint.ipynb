{
 "cells": [
  {
   "cell_type": "markdown",
   "metadata": {
    "toc": true
   },
   "source": [
    "<h1>Содержание<span class=\"tocSkip\"></span></h1>\n",
    "<div class=\"toc\"><ul class=\"toc-item\"><li><span><a href=\"#Подготовка-данных\" data-toc-modified-id=\"Подготовка-данных-1\"><span class=\"toc-item-num\">1&nbsp;&nbsp;</span>Подготовка данных</a></span></li><li><span><a href=\"#Исследование-задачи\" data-toc-modified-id=\"Исследование-задачи-2\"><span class=\"toc-item-num\">2&nbsp;&nbsp;</span>Исследование задачи</a></span></li><li><span><a href=\"#Борьба-с-дисбалансом\" data-toc-modified-id=\"Борьба-с-дисбалансом-3\"><span class=\"toc-item-num\">3&nbsp;&nbsp;</span>Борьба с дисбалансом</a></span></li><li><span><a href=\"#Тестирование-модели\" data-toc-modified-id=\"Тестирование-модели-4\"><span class=\"toc-item-num\">4&nbsp;&nbsp;</span>Тестирование модели</a></span></li><li><span><a href=\"#Чек-лист-готовности-проекта\" data-toc-modified-id=\"Чек-лист-готовности-проекта-5\"><span class=\"toc-item-num\">5&nbsp;&nbsp;</span>Чек-лист готовности проекта</a></span></li></ul></div>"
   ]
  },
  {
   "cell_type": "markdown",
   "metadata": {},
   "source": [
    "# Отток клиентов"
   ]
  },
  {
   "cell_type": "markdown",
   "metadata": {},
   "source": [
    "Из «Бета-Банка» стали уходить клиенты. Банковские маркетологи посчитали: сохранять текущих клиентов дешевле, чем привлекать новых.\n",
    "\n",
    "Нужно спрогнозировать, уйдёт клиент из банка в ближайшее время или нет. Предоставлены исторические данные о поведении клиентов и расторжении договоров с банком. \n",
    "\n",
    "Небходимо построить модель с предельно большим значением *F1*-меры. И проверить *F1*-меру на тестовой выборке.\n",
    "\n",
    "Дополнительно будем измерять *AUC-ROC*, сравнивать её значение с *F1*-мерой.\n",
    "\n",
    "Источник данных: [https://www.kaggle.com/barelydedicated/bank-customer-churn-modeling](https://www.kaggle.com/barelydedicated/bank-customer-churn-modeling)"
   ]
  },
  {
   "cell_type": "markdown",
   "metadata": {},
   "source": [
    "## Подготовка данных"
   ]
  },
  {
   "cell_type": "markdown",
   "metadata": {},
   "source": [
    "Для начала импортируем необходимые для работы с данными библиотеки, модели и метрики."
   ]
  },
  {
   "cell_type": "code",
   "execution_count": 1,
   "metadata": {},
   "outputs": [],
   "source": [
    "import pandas as pd\n",
    "import numpy as np \n",
    "import matplotlib.pyplot as plt\n",
    "import seaborn as sns\n",
    "import re\n",
    "from sklearn.model_selection import train_test_split\n",
    "from sklearn.metrics import accuracy_score\n",
    "from sklearn.tree import DecisionTreeClassifier\n",
    "from sklearn.ensemble import RandomForestClassifier\n",
    "from sklearn.linear_model import LogisticRegression\n",
    "from sklearn.preprocessing import StandardScaler  \n",
    "pd.options.mode.chained_assignment = None\n",
    "from sklearn.metrics import confusion_matrix\n",
    "from sklearn.metrics import recall_score\n",
    "from sklearn.metrics import precision_score\n",
    "from sklearn.metrics import f1_score\n",
    "from sklearn.utils import shuffle\n",
    "from sklearn.metrics import roc_auc_score\n",
    "from sklearn.metrics import roc_curve\n",
    "from sklearn.metrics import precision_recall_curve\n",
    "\n"
   ]
  },
  {
   "cell_type": "markdown",
   "metadata": {},
   "source": [
    "Прочитаем файл с исходными данными и сохраним его как датасет data"
   ]
  },
  {
   "cell_type": "code",
   "execution_count": 2,
   "metadata": {},
   "outputs": [],
   "source": [
    "data=pd.read_csv('Churn.csv')"
   ]
  },
  {
   "cell_type": "markdown",
   "metadata": {},
   "source": [
    "Ознакомимся с данными, воспользовавшись функцией head()"
   ]
  },
  {
   "cell_type": "code",
   "execution_count": 3,
   "metadata": {},
   "outputs": [
    {
     "data": {
      "text/html": [
       "<div>\n",
       "<style scoped>\n",
       "    .dataframe tbody tr th:only-of-type {\n",
       "        vertical-align: middle;\n",
       "    }\n",
       "\n",
       "    .dataframe tbody tr th {\n",
       "        vertical-align: top;\n",
       "    }\n",
       "\n",
       "    .dataframe thead th {\n",
       "        text-align: right;\n",
       "    }\n",
       "</style>\n",
       "<table border=\"1\" class=\"dataframe\">\n",
       "  <thead>\n",
       "    <tr style=\"text-align: right;\">\n",
       "      <th></th>\n",
       "      <th>RowNumber</th>\n",
       "      <th>CustomerId</th>\n",
       "      <th>Surname</th>\n",
       "      <th>CreditScore</th>\n",
       "      <th>Geography</th>\n",
       "      <th>Gender</th>\n",
       "      <th>Age</th>\n",
       "      <th>Tenure</th>\n",
       "      <th>Balance</th>\n",
       "      <th>NumOfProducts</th>\n",
       "      <th>HasCrCard</th>\n",
       "      <th>IsActiveMember</th>\n",
       "      <th>EstimatedSalary</th>\n",
       "      <th>Exited</th>\n",
       "    </tr>\n",
       "  </thead>\n",
       "  <tbody>\n",
       "    <tr>\n",
       "      <th>0</th>\n",
       "      <td>1</td>\n",
       "      <td>15634602</td>\n",
       "      <td>Hargrave</td>\n",
       "      <td>619</td>\n",
       "      <td>France</td>\n",
       "      <td>Female</td>\n",
       "      <td>42</td>\n",
       "      <td>2.0</td>\n",
       "      <td>0.00</td>\n",
       "      <td>1</td>\n",
       "      <td>1</td>\n",
       "      <td>1</td>\n",
       "      <td>101348.88</td>\n",
       "      <td>1</td>\n",
       "    </tr>\n",
       "    <tr>\n",
       "      <th>1</th>\n",
       "      <td>2</td>\n",
       "      <td>15647311</td>\n",
       "      <td>Hill</td>\n",
       "      <td>608</td>\n",
       "      <td>Spain</td>\n",
       "      <td>Female</td>\n",
       "      <td>41</td>\n",
       "      <td>1.0</td>\n",
       "      <td>83807.86</td>\n",
       "      <td>1</td>\n",
       "      <td>0</td>\n",
       "      <td>1</td>\n",
       "      <td>112542.58</td>\n",
       "      <td>0</td>\n",
       "    </tr>\n",
       "    <tr>\n",
       "      <th>2</th>\n",
       "      <td>3</td>\n",
       "      <td>15619304</td>\n",
       "      <td>Onio</td>\n",
       "      <td>502</td>\n",
       "      <td>France</td>\n",
       "      <td>Female</td>\n",
       "      <td>42</td>\n",
       "      <td>8.0</td>\n",
       "      <td>159660.80</td>\n",
       "      <td>3</td>\n",
       "      <td>1</td>\n",
       "      <td>0</td>\n",
       "      <td>113931.57</td>\n",
       "      <td>1</td>\n",
       "    </tr>\n",
       "    <tr>\n",
       "      <th>3</th>\n",
       "      <td>4</td>\n",
       "      <td>15701354</td>\n",
       "      <td>Boni</td>\n",
       "      <td>699</td>\n",
       "      <td>France</td>\n",
       "      <td>Female</td>\n",
       "      <td>39</td>\n",
       "      <td>1.0</td>\n",
       "      <td>0.00</td>\n",
       "      <td>2</td>\n",
       "      <td>0</td>\n",
       "      <td>0</td>\n",
       "      <td>93826.63</td>\n",
       "      <td>0</td>\n",
       "    </tr>\n",
       "    <tr>\n",
       "      <th>4</th>\n",
       "      <td>5</td>\n",
       "      <td>15737888</td>\n",
       "      <td>Mitchell</td>\n",
       "      <td>850</td>\n",
       "      <td>Spain</td>\n",
       "      <td>Female</td>\n",
       "      <td>43</td>\n",
       "      <td>2.0</td>\n",
       "      <td>125510.82</td>\n",
       "      <td>1</td>\n",
       "      <td>1</td>\n",
       "      <td>1</td>\n",
       "      <td>79084.10</td>\n",
       "      <td>0</td>\n",
       "    </tr>\n",
       "    <tr>\n",
       "      <th>5</th>\n",
       "      <td>6</td>\n",
       "      <td>15574012</td>\n",
       "      <td>Chu</td>\n",
       "      <td>645</td>\n",
       "      <td>Spain</td>\n",
       "      <td>Male</td>\n",
       "      <td>44</td>\n",
       "      <td>8.0</td>\n",
       "      <td>113755.78</td>\n",
       "      <td>2</td>\n",
       "      <td>1</td>\n",
       "      <td>0</td>\n",
       "      <td>149756.71</td>\n",
       "      <td>1</td>\n",
       "    </tr>\n",
       "    <tr>\n",
       "      <th>6</th>\n",
       "      <td>7</td>\n",
       "      <td>15592531</td>\n",
       "      <td>Bartlett</td>\n",
       "      <td>822</td>\n",
       "      <td>France</td>\n",
       "      <td>Male</td>\n",
       "      <td>50</td>\n",
       "      <td>7.0</td>\n",
       "      <td>0.00</td>\n",
       "      <td>2</td>\n",
       "      <td>1</td>\n",
       "      <td>1</td>\n",
       "      <td>10062.80</td>\n",
       "      <td>0</td>\n",
       "    </tr>\n",
       "    <tr>\n",
       "      <th>7</th>\n",
       "      <td>8</td>\n",
       "      <td>15656148</td>\n",
       "      <td>Obinna</td>\n",
       "      <td>376</td>\n",
       "      <td>Germany</td>\n",
       "      <td>Female</td>\n",
       "      <td>29</td>\n",
       "      <td>4.0</td>\n",
       "      <td>115046.74</td>\n",
       "      <td>4</td>\n",
       "      <td>1</td>\n",
       "      <td>0</td>\n",
       "      <td>119346.88</td>\n",
       "      <td>1</td>\n",
       "    </tr>\n",
       "    <tr>\n",
       "      <th>8</th>\n",
       "      <td>9</td>\n",
       "      <td>15792365</td>\n",
       "      <td>He</td>\n",
       "      <td>501</td>\n",
       "      <td>France</td>\n",
       "      <td>Male</td>\n",
       "      <td>44</td>\n",
       "      <td>4.0</td>\n",
       "      <td>142051.07</td>\n",
       "      <td>2</td>\n",
       "      <td>0</td>\n",
       "      <td>1</td>\n",
       "      <td>74940.50</td>\n",
       "      <td>0</td>\n",
       "    </tr>\n",
       "    <tr>\n",
       "      <th>9</th>\n",
       "      <td>10</td>\n",
       "      <td>15592389</td>\n",
       "      <td>H?</td>\n",
       "      <td>684</td>\n",
       "      <td>France</td>\n",
       "      <td>Male</td>\n",
       "      <td>27</td>\n",
       "      <td>2.0</td>\n",
       "      <td>134603.88</td>\n",
       "      <td>1</td>\n",
       "      <td>1</td>\n",
       "      <td>1</td>\n",
       "      <td>71725.73</td>\n",
       "      <td>0</td>\n",
       "    </tr>\n",
       "  </tbody>\n",
       "</table>\n",
       "</div>"
      ],
      "text/plain": [
       "   RowNumber  CustomerId   Surname  CreditScore Geography  Gender  Age  \\\n",
       "0          1    15634602  Hargrave          619    France  Female   42   \n",
       "1          2    15647311      Hill          608     Spain  Female   41   \n",
       "2          3    15619304      Onio          502    France  Female   42   \n",
       "3          4    15701354      Boni          699    France  Female   39   \n",
       "4          5    15737888  Mitchell          850     Spain  Female   43   \n",
       "5          6    15574012       Chu          645     Spain    Male   44   \n",
       "6          7    15592531  Bartlett          822    France    Male   50   \n",
       "7          8    15656148    Obinna          376   Germany  Female   29   \n",
       "8          9    15792365        He          501    France    Male   44   \n",
       "9         10    15592389        H?          684    France    Male   27   \n",
       "\n",
       "   Tenure    Balance  NumOfProducts  HasCrCard  IsActiveMember  \\\n",
       "0     2.0       0.00              1          1               1   \n",
       "1     1.0   83807.86              1          0               1   \n",
       "2     8.0  159660.80              3          1               0   \n",
       "3     1.0       0.00              2          0               0   \n",
       "4     2.0  125510.82              1          1               1   \n",
       "5     8.0  113755.78              2          1               0   \n",
       "6     7.0       0.00              2          1               1   \n",
       "7     4.0  115046.74              4          1               0   \n",
       "8     4.0  142051.07              2          0               1   \n",
       "9     2.0  134603.88              1          1               1   \n",
       "\n",
       "   EstimatedSalary  Exited  \n",
       "0        101348.88       1  \n",
       "1        112542.58       0  \n",
       "2        113931.57       1  \n",
       "3         93826.63       0  \n",
       "4         79084.10       0  \n",
       "5        149756.71       1  \n",
       "6         10062.80       0  \n",
       "7        119346.88       1  \n",
       "8         74940.50       0  \n",
       "9         71725.73       0  "
      ]
     },
     "execution_count": 3,
     "metadata": {},
     "output_type": "execute_result"
    }
   ],
   "source": [
    "data.head(10)"
   ]
  },
  {
   "cell_type": "markdown",
   "metadata": {},
   "source": [
    "Изучим данные более внимательно, воспользовавшись функцией info()"
   ]
  },
  {
   "cell_type": "code",
   "execution_count": 4,
   "metadata": {},
   "outputs": [
    {
     "name": "stdout",
     "output_type": "stream",
     "text": [
      "<class 'pandas.core.frame.DataFrame'>\n",
      "RangeIndex: 10000 entries, 0 to 9999\n",
      "Data columns (total 14 columns):\n",
      " #   Column           Non-Null Count  Dtype  \n",
      "---  ------           --------------  -----  \n",
      " 0   RowNumber        10000 non-null  int64  \n",
      " 1   CustomerId       10000 non-null  int64  \n",
      " 2   Surname          10000 non-null  object \n",
      " 3   CreditScore      10000 non-null  int64  \n",
      " 4   Geography        10000 non-null  object \n",
      " 5   Gender           10000 non-null  object \n",
      " 6   Age              10000 non-null  int64  \n",
      " 7   Tenure           9091 non-null   float64\n",
      " 8   Balance          10000 non-null  float64\n",
      " 9   NumOfProducts    10000 non-null  int64  \n",
      " 10  HasCrCard        10000 non-null  int64  \n",
      " 11  IsActiveMember   10000 non-null  int64  \n",
      " 12  EstimatedSalary  10000 non-null  float64\n",
      " 13  Exited           10000 non-null  int64  \n",
      "dtypes: float64(3), int64(8), object(3)\n",
      "memory usage: 1.1+ MB\n"
     ]
    }
   ],
   "source": [
    "data.info()"
   ]
  },
  {
   "cell_type": "markdown",
   "metadata": {},
   "source": [
    "Таким образом, мы видим, что типы данных соответствуют ожидаемым, в столбце Tenure имеются пропуски. Приведем названия столбцов в порядок "
   ]
  },
  {
   "cell_type": "code",
   "execution_count": 5,
   "metadata": {},
   "outputs": [],
   "source": [
    "for inx, name in enumerate(data.columns):\n",
    "    data.rename(\n",
    "        columns=\n",
    "        {data.columns[inx]: \n",
    "         '_'.join(re.findall('[A-Z][^A-Z]*', \n",
    "                             data.columns[inx]))\n",
    "         .lower()}, inplace=True)"
   ]
  },
  {
   "cell_type": "markdown",
   "metadata": {},
   "source": [
    "Проверим полученный результат"
   ]
  },
  {
   "cell_type": "code",
   "execution_count": 6,
   "metadata": {},
   "outputs": [
    {
     "data": {
      "text/plain": [
       "Index(['row_number', 'customer_id', 'surname', 'credit_score', 'geography',\n",
       "       'gender', 'age', 'tenure', 'balance', 'num_of_products', 'has_cr_card',\n",
       "       'is_active_member', 'estimated_salary', 'exited'],\n",
       "      dtype='object')"
      ]
     },
     "execution_count": 6,
     "metadata": {},
     "output_type": "execute_result"
    }
   ],
   "source": [
    "data.columns"
   ]
  },
  {
   "cell_type": "markdown",
   "metadata": {},
   "source": [
    "Заполним пропуски в столбце tenure, для этого посмотрим подробнее на распределение данного признака"
   ]
  },
  {
   "cell_type": "code",
   "execution_count": 7,
   "metadata": {},
   "outputs": [
    {
     "data": {
      "image/png": "[encoded data removed]",
      "text/plain": [
       "<Figure size 640x480 with 1 Axes>"
      ]
     },
     "metadata": {},
     "output_type": "display_data"
    }
   ],
   "source": [
    "plt.hist(data['tenure'], color ='blue', edgecolor='black', linewidth=1, bins=11)\n",
    "plt.title('Гистограмма tenure', fontsize=14)\n",
    "plt.show()"
   ]
  },
  {
   "cell_type": "code",
   "execution_count": 8,
   "metadata": {},
   "outputs": [
    {
     "data": {
      "text/plain": [
       "count    9091.000000\n",
       "mean        4.997690\n",
       "std         2.894723\n",
       "min         0.000000\n",
       "25%         2.000000\n",
       "50%         5.000000\n",
       "75%         7.000000\n",
       "max        10.000000\n",
       "Name: tenure, dtype: float64"
      ]
     },
     "execution_count": 8,
     "metadata": {},
     "output_type": "execute_result"
    }
   ],
   "source": [
    "data['tenure'].describe()"
   ]
  },
  {
   "cell_type": "code",
   "execution_count": 9,
   "metadata": {},
   "outputs": [
    {
     "data": {
      "text/html": [
       "<div>\n",
       "<style scoped>\n",
       "    .dataframe tbody tr th:only-of-type {\n",
       "        vertical-align: middle;\n",
       "    }\n",
       "\n",
       "    .dataframe tbody tr th {\n",
       "        vertical-align: top;\n",
       "    }\n",
       "\n",
       "    .dataframe thead th {\n",
       "        text-align: right;\n",
       "    }\n",
       "</style>\n",
       "<table border=\"1\" class=\"dataframe\">\n",
       "  <thead>\n",
       "    <tr style=\"text-align: right;\">\n",
       "      <th></th>\n",
       "      <th>tenure</th>\n",
       "      <th>exited</th>\n",
       "    </tr>\n",
       "  </thead>\n",
       "  <tbody>\n",
       "    <tr>\n",
       "      <th>tenure</th>\n",
       "      <td>1.000000</td>\n",
       "      <td>-0.016761</td>\n",
       "    </tr>\n",
       "    <tr>\n",
       "      <th>exited</th>\n",
       "      <td>-0.016761</td>\n",
       "      <td>1.000000</td>\n",
       "    </tr>\n",
       "  </tbody>\n",
       "</table>\n",
       "</div>"
      ],
      "text/plain": [
       "          tenure    exited\n",
       "tenure  1.000000 -0.016761\n",
       "exited -0.016761  1.000000"
      ]
     },
     "execution_count": 9,
     "metadata": {},
     "output_type": "execute_result"
    }
   ],
   "source": [
    "data[['tenure', 'exited']].corr()"
   ]
  },
  {
   "cell_type": "markdown",
   "metadata": {},
   "source": [
    "Корреляция отсутствует, а метрики среднего одинаковые. Так как крайние значения не велики, используем медиану при заполнении пропусков."
   ]
  },
  {
   "cell_type": "code",
   "execution_count": 10,
   "metadata": {},
   "outputs": [],
   "source": [
    "data['tenure'].fillna(data['tenure'].median(), inplace=True)"
   ]
  },
  {
   "cell_type": "markdown",
   "metadata": {},
   "source": [
    "Проверим полученный результат"
   ]
  },
  {
   "cell_type": "code",
   "execution_count": 11,
   "metadata": {},
   "outputs": [
    {
     "name": "stdout",
     "output_type": "stream",
     "text": [
      "<class 'pandas.core.frame.DataFrame'>\n",
      "RangeIndex: 10000 entries, 0 to 9999\n",
      "Data columns (total 14 columns):\n",
      " #   Column            Non-Null Count  Dtype  \n",
      "---  ------            --------------  -----  \n",
      " 0   row_number        10000 non-null  int64  \n",
      " 1   customer_id       10000 non-null  int64  \n",
      " 2   surname           10000 non-null  object \n",
      " 3   credit_score      10000 non-null  int64  \n",
      " 4   geography         10000 non-null  object \n",
      " 5   gender            10000 non-null  object \n",
      " 6   age               10000 non-null  int64  \n",
      " 7   tenure            10000 non-null  float64\n",
      " 8   balance           10000 non-null  float64\n",
      " 9   num_of_products   10000 non-null  int64  \n",
      " 10  has_cr_card       10000 non-null  int64  \n",
      " 11  is_active_member  10000 non-null  int64  \n",
      " 12  estimated_salary  10000 non-null  float64\n",
      " 13  exited            10000 non-null  int64  \n",
      "dtypes: float64(3), int64(8), object(3)\n",
      "memory usage: 1.1+ MB\n"
     ]
    }
   ],
   "source": [
    "data.info()"
   ]
  },
  {
   "cell_type": "markdown",
   "metadata": {},
   "source": [
    "Видим, что пропуски в столбце tenure исчезли"
   ]
  },
  {
   "cell_type": "markdown",
   "metadata": {},
   "source": [
    "Удалим лишние столбцы, которые не повлияют на обучение модели"
   ]
  },
  {
   "cell_type": "code",
   "execution_count": 12,
   "metadata": {},
   "outputs": [],
   "source": [
    "data = data.drop(['row_number', 'customer_id', 'surname'], axis=1)"
   ]
  },
  {
   "cell_type": "markdown",
   "metadata": {},
   "source": [
    "Посмотрим на признаки более детально, воспользовавшись функцией describe()"
   ]
  },
  {
   "cell_type": "code",
   "execution_count": 13,
   "metadata": {},
   "outputs": [
    {
     "data": {
      "text/html": [
       "<div>\n",
       "<style scoped>\n",
       "    .dataframe tbody tr th:only-of-type {\n",
       "        vertical-align: middle;\n",
       "    }\n",
       "\n",
       "    .dataframe tbody tr th {\n",
       "        vertical-align: top;\n",
       "    }\n",
       "\n",
       "    .dataframe thead th {\n",
       "        text-align: right;\n",
       "    }\n",
       "</style>\n",
       "<table border=\"1\" class=\"dataframe\">\n",
       "  <thead>\n",
       "    <tr style=\"text-align: right;\">\n",
       "      <th></th>\n",
       "      <th>credit_score</th>\n",
       "      <th>age</th>\n",
       "      <th>tenure</th>\n",
       "      <th>balance</th>\n",
       "      <th>num_of_products</th>\n",
       "      <th>has_cr_card</th>\n",
       "      <th>is_active_member</th>\n",
       "      <th>estimated_salary</th>\n",
       "      <th>exited</th>\n",
       "    </tr>\n",
       "  </thead>\n",
       "  <tbody>\n",
       "    <tr>\n",
       "      <th>count</th>\n",
       "      <td>10000.000000</td>\n",
       "      <td>10000.000000</td>\n",
       "      <td>10000.00000</td>\n",
       "      <td>10000.000000</td>\n",
       "      <td>10000.000000</td>\n",
       "      <td>10000.00000</td>\n",
       "      <td>10000.000000</td>\n",
       "      <td>10000.000000</td>\n",
       "      <td>10000.000000</td>\n",
       "    </tr>\n",
       "    <tr>\n",
       "      <th>mean</th>\n",
       "      <td>650.528800</td>\n",
       "      <td>38.921800</td>\n",
       "      <td>4.99790</td>\n",
       "      <td>76485.889288</td>\n",
       "      <td>1.530200</td>\n",
       "      <td>0.70550</td>\n",
       "      <td>0.515100</td>\n",
       "      <td>100090.239881</td>\n",
       "      <td>0.203700</td>\n",
       "    </tr>\n",
       "    <tr>\n",
       "      <th>std</th>\n",
       "      <td>96.653299</td>\n",
       "      <td>10.487806</td>\n",
       "      <td>2.76001</td>\n",
       "      <td>62397.405202</td>\n",
       "      <td>0.581654</td>\n",
       "      <td>0.45584</td>\n",
       "      <td>0.499797</td>\n",
       "      <td>57510.492818</td>\n",
       "      <td>0.402769</td>\n",
       "    </tr>\n",
       "    <tr>\n",
       "      <th>min</th>\n",
       "      <td>350.000000</td>\n",
       "      <td>18.000000</td>\n",
       "      <td>0.00000</td>\n",
       "      <td>0.000000</td>\n",
       "      <td>1.000000</td>\n",
       "      <td>0.00000</td>\n",
       "      <td>0.000000</td>\n",
       "      <td>11.580000</td>\n",
       "      <td>0.000000</td>\n",
       "    </tr>\n",
       "    <tr>\n",
       "      <th>25%</th>\n",
       "      <td>584.000000</td>\n",
       "      <td>32.000000</td>\n",
       "      <td>3.00000</td>\n",
       "      <td>0.000000</td>\n",
       "      <td>1.000000</td>\n",
       "      <td>0.00000</td>\n",
       "      <td>0.000000</td>\n",
       "      <td>51002.110000</td>\n",
       "      <td>0.000000</td>\n",
       "    </tr>\n",
       "    <tr>\n",
       "      <th>50%</th>\n",
       "      <td>652.000000</td>\n",
       "      <td>37.000000</td>\n",
       "      <td>5.00000</td>\n",
       "      <td>97198.540000</td>\n",
       "      <td>1.000000</td>\n",
       "      <td>1.00000</td>\n",
       "      <td>1.000000</td>\n",
       "      <td>100193.915000</td>\n",
       "      <td>0.000000</td>\n",
       "    </tr>\n",
       "    <tr>\n",
       "      <th>75%</th>\n",
       "      <td>718.000000</td>\n",
       "      <td>44.000000</td>\n",
       "      <td>7.00000</td>\n",
       "      <td>127644.240000</td>\n",
       "      <td>2.000000</td>\n",
       "      <td>1.00000</td>\n",
       "      <td>1.000000</td>\n",
       "      <td>149388.247500</td>\n",
       "      <td>0.000000</td>\n",
       "    </tr>\n",
       "    <tr>\n",
       "      <th>max</th>\n",
       "      <td>850.000000</td>\n",
       "      <td>92.000000</td>\n",
       "      <td>10.00000</td>\n",
       "      <td>250898.090000</td>\n",
       "      <td>4.000000</td>\n",
       "      <td>1.00000</td>\n",
       "      <td>1.000000</td>\n",
       "      <td>199992.480000</td>\n",
       "      <td>1.000000</td>\n",
       "    </tr>\n",
       "  </tbody>\n",
       "</table>\n",
       "</div>"
      ],
      "text/plain": [
       "       credit_score           age       tenure        balance  \\\n",
       "count  10000.000000  10000.000000  10000.00000   10000.000000   \n",
       "mean     650.528800     38.921800      4.99790   76485.889288   \n",
       "std       96.653299     10.487806      2.76001   62397.405202   \n",
       "min      350.000000     18.000000      0.00000       0.000000   \n",
       "25%      584.000000     32.000000      3.00000       0.000000   \n",
       "50%      652.000000     37.000000      5.00000   97198.540000   \n",
       "75%      718.000000     44.000000      7.00000  127644.240000   \n",
       "max      850.000000     92.000000     10.00000  250898.090000   \n",
       "\n",
       "       num_of_products  has_cr_card  is_active_member  estimated_salary  \\\n",
       "count     10000.000000  10000.00000      10000.000000      10000.000000   \n",
       "mean          1.530200      0.70550          0.515100     100090.239881   \n",
       "std           0.581654      0.45584          0.499797      57510.492818   \n",
       "min           1.000000      0.00000          0.000000         11.580000   \n",
       "25%           1.000000      0.00000          0.000000      51002.110000   \n",
       "50%           1.000000      1.00000          1.000000     100193.915000   \n",
       "75%           2.000000      1.00000          1.000000     149388.247500   \n",
       "max           4.000000      1.00000          1.000000     199992.480000   \n",
       "\n",
       "             exited  \n",
       "count  10000.000000  \n",
       "mean       0.203700  \n",
       "std        0.402769  \n",
       "min        0.000000  \n",
       "25%        0.000000  \n",
       "50%        0.000000  \n",
       "75%        0.000000  \n",
       "max        1.000000  "
      ]
     },
     "execution_count": 13,
     "metadata": {},
     "output_type": "execute_result"
    }
   ],
   "source": [
    "data.describe()"
   ]
  },
  {
   "cell_type": "markdown",
   "metadata": {},
   "source": [
    "Посмотрим на распределение признаков на графиках"
   ]
  },
  {
   "cell_type": "code",
   "execution_count": 14,
   "metadata": {
    "scrolled": true
   },
   "outputs": [
    {
     "data": {
      "image/png": "[encoded data removed]",
      "text/plain": [
       "<Figure size 2000x1500 with 9 Axes>"
      ]
     },
     "metadata": {},
     "output_type": "display_data"
    }
   ],
   "source": [
    "data.hist(bins=50, figsize=(20,15), color='blue', edgecolor='black', linewidth=1)\n",
    "plt.show()"
   ]
  },
  {
   "cell_type": "markdown",
   "metadata": {},
   "source": [
    "Таким образом мы можем наблюдать большой разброс значений, значит потребуется масштабирование признаков. разброс значений потребует Кроме того мы увидели выбросы: данные признака credit_score явно ограничены по правой стороне и имеется длинный уходящий влево хвост.\n",
    "Данные признака balance могут быть ограничены по левой стороне, видим длинный хвост распределения влево и вправо. Признаки credit_score, age, tenure, balance стремятся к колоколообразному распределнию, а вот распределение значений признака estimated_salary вызывает вопросы."
   ]
  },
  {
   "cell_type": "markdown",
   "metadata": {},
   "source": [
    "## Исследование задачи"
   ]
  },
  {
   "cell_type": "markdown",
   "metadata": {},
   "source": [
    "Исследуем баланс классов. Для начала посмотрим, как распределен целевой признак"
   ]
  },
  {
   "cell_type": "code",
   "execution_count": 15,
   "metadata": {},
   "outputs": [
    {
     "data": {
      "text/plain": [
       "0    7963\n",
       "1    2037\n",
       "Name: exited, dtype: int64"
      ]
     },
     "execution_count": 15,
     "metadata": {},
     "output_type": "execute_result"
    }
   ],
   "source": [
    "data['exited'].value_counts()"
   ]
  },
  {
   "cell_type": "code",
   "execution_count": 16,
   "metadata": {},
   "outputs": [
    {
     "name": "stdout",
     "output_type": "stream",
     "text": [
      "Доля положительного целевого признака в выборке 25.58%\n"
     ]
    }
   ],
   "source": [
    "part = data['exited'].value_counts()[1] / data['exited'].value_counts()[0]\n",
    "print(f'Доля положительного целевого признака в выборке {part:.2%}')"
   ]
  },
  {
   "cell_type": "markdown",
   "metadata": {},
   "source": [
    "Наблюдаем крайне неравномерное распределение распределение целевого признака. Выборка содержит порядка 26% положительных значений.\n",
    "Для ищбавления от дисбаланса можно воспользоваться методами увеличения или уменьшения выборки. \n",
    "Доля целевой положительной метки 25%. Для равного веса, необходимо вернуть 0.33 отрицательного класса целевого признака."
   ]
  },
  {
   "cell_type": "markdown",
   "metadata": {},
   "source": [
    "Разделим датасет на признаки и целевой признак, при этом преобразуем категориальные признаки в численные методом прямого кодирования"
   ]
  },
  {
   "cell_type": "code",
   "execution_count": 17,
   "metadata": {},
   "outputs": [],
   "source": [
    "data_ohe = pd.get_dummies(data, columns = ['geography', 'gender'], drop_first=True)"
   ]
  },
  {
   "cell_type": "code",
   "execution_count": 18,
   "metadata": {},
   "outputs": [
    {
     "data": {
      "text/plain": [
       "(10000, 11)"
      ]
     },
     "execution_count": 18,
     "metadata": {},
     "output_type": "execute_result"
    }
   ],
   "source": [
    "features = data_ohe.drop('exited', axis=1)\n",
    "features.shape"
   ]
  },
  {
   "cell_type": "code",
   "execution_count": 19,
   "metadata": {},
   "outputs": [
    {
     "data": {
      "text/plain": [
       "(10000,)"
      ]
     },
     "execution_count": 19,
     "metadata": {},
     "output_type": "execute_result"
    }
   ],
   "source": [
    "target = data_ohe['exited']\n",
    "target.shape"
   ]
  },
  {
   "cell_type": "markdown",
   "metadata": {},
   "source": [
    "Проверим получившийся результат"
   ]
  },
  {
   "cell_type": "code",
   "execution_count": 20,
   "metadata": {},
   "outputs": [
    {
     "name": "stdout",
     "output_type": "stream",
     "text": [
      "<class 'pandas.core.frame.DataFrame'>\n",
      "RangeIndex: 10000 entries, 0 to 9999\n",
      "Data columns (total 12 columns):\n",
      " #   Column             Non-Null Count  Dtype  \n",
      "---  ------             --------------  -----  \n",
      " 0   credit_score       10000 non-null  int64  \n",
      " 1   age                10000 non-null  int64  \n",
      " 2   tenure             10000 non-null  float64\n",
      " 3   balance            10000 non-null  float64\n",
      " 4   num_of_products    10000 non-null  int64  \n",
      " 5   has_cr_card        10000 non-null  int64  \n",
      " 6   is_active_member   10000 non-null  int64  \n",
      " 7   estimated_salary   10000 non-null  float64\n",
      " 8   exited             10000 non-null  int64  \n",
      " 9   geography_Germany  10000 non-null  uint8  \n",
      " 10  geography_Spain    10000 non-null  uint8  \n",
      " 11  gender_Male        10000 non-null  uint8  \n",
      "dtypes: float64(3), int64(6), uint8(3)\n",
      "memory usage: 732.5 KB\n"
     ]
    }
   ],
   "source": [
    "data_ohe.info()"
   ]
  },
  {
   "cell_type": "markdown",
   "metadata": {},
   "source": [
    "Приведем численные признаки к одному масштабу с помощью StandardScaler()"
   ]
  },
  {
   "cell_type": "code",
   "execution_count": 21,
   "metadata": {},
   "outputs": [
    {
     "data": {
      "text/html": [
       "<div>\n",
       "<style scoped>\n",
       "    .dataframe tbody tr th:only-of-type {\n",
       "        vertical-align: middle;\n",
       "    }\n",
       "\n",
       "    .dataframe tbody tr th {\n",
       "        vertical-align: top;\n",
       "    }\n",
       "\n",
       "    .dataframe thead th {\n",
       "        text-align: right;\n",
       "    }\n",
       "</style>\n",
       "<table border=\"1\" class=\"dataframe\">\n",
       "  <thead>\n",
       "    <tr style=\"text-align: right;\">\n",
       "      <th></th>\n",
       "      <th>credit_score</th>\n",
       "      <th>age</th>\n",
       "      <th>tenure</th>\n",
       "      <th>balance</th>\n",
       "      <th>num_of_products</th>\n",
       "      <th>has_cr_card</th>\n",
       "      <th>is_active_member</th>\n",
       "      <th>estimated_salary</th>\n",
       "      <th>geography_Germany</th>\n",
       "      <th>geography_Spain</th>\n",
       "      <th>gender_Male</th>\n",
       "    </tr>\n",
       "  </thead>\n",
       "  <tbody>\n",
       "    <tr>\n",
       "      <th>0</th>\n",
       "      <td>-0.326221</td>\n",
       "      <td>0.293517</td>\n",
       "      <td>-1.086246</td>\n",
       "      <td>-1.225848</td>\n",
       "      <td>-0.911583</td>\n",
       "      <td>1</td>\n",
       "      <td>1</td>\n",
       "      <td>0.021886</td>\n",
       "      <td>0</td>\n",
       "      <td>0</td>\n",
       "      <td>0</td>\n",
       "    </tr>\n",
       "    <tr>\n",
       "      <th>1</th>\n",
       "      <td>-0.440036</td>\n",
       "      <td>0.198164</td>\n",
       "      <td>-1.448581</td>\n",
       "      <td>0.117350</td>\n",
       "      <td>-0.911583</td>\n",
       "      <td>0</td>\n",
       "      <td>1</td>\n",
       "      <td>0.216534</td>\n",
       "      <td>0</td>\n",
       "      <td>1</td>\n",
       "      <td>0</td>\n",
       "    </tr>\n",
       "    <tr>\n",
       "      <th>2</th>\n",
       "      <td>-1.536794</td>\n",
       "      <td>0.293517</td>\n",
       "      <td>1.087768</td>\n",
       "      <td>1.333053</td>\n",
       "      <td>2.527057</td>\n",
       "      <td>1</td>\n",
       "      <td>0</td>\n",
       "      <td>0.240687</td>\n",
       "      <td>0</td>\n",
       "      <td>0</td>\n",
       "      <td>0</td>\n",
       "    </tr>\n",
       "    <tr>\n",
       "      <th>3</th>\n",
       "      <td>0.501521</td>\n",
       "      <td>0.007457</td>\n",
       "      <td>-1.448581</td>\n",
       "      <td>-1.225848</td>\n",
       "      <td>0.807737</td>\n",
       "      <td>0</td>\n",
       "      <td>0</td>\n",
       "      <td>-0.108918</td>\n",
       "      <td>0</td>\n",
       "      <td>0</td>\n",
       "      <td>0</td>\n",
       "    </tr>\n",
       "    <tr>\n",
       "      <th>4</th>\n",
       "      <td>2.063884</td>\n",
       "      <td>0.388871</td>\n",
       "      <td>-1.086246</td>\n",
       "      <td>0.785728</td>\n",
       "      <td>-0.911583</td>\n",
       "      <td>1</td>\n",
       "      <td>1</td>\n",
       "      <td>-0.365276</td>\n",
       "      <td>0</td>\n",
       "      <td>1</td>\n",
       "      <td>0</td>\n",
       "    </tr>\n",
       "  </tbody>\n",
       "</table>\n",
       "</div>"
      ],
      "text/plain": [
       "   credit_score       age    tenure   balance  num_of_products  has_cr_card  \\\n",
       "0     -0.326221  0.293517 -1.086246 -1.225848        -0.911583            1   \n",
       "1     -0.440036  0.198164 -1.448581  0.117350        -0.911583            0   \n",
       "2     -1.536794  0.293517  1.087768  1.333053         2.527057            1   \n",
       "3      0.501521  0.007457 -1.448581 -1.225848         0.807737            0   \n",
       "4      2.063884  0.388871 -1.086246  0.785728        -0.911583            1   \n",
       "\n",
       "   is_active_member  estimated_salary  geography_Germany  geography_Spain  \\\n",
       "0                 1          0.021886                  0                0   \n",
       "1                 1          0.216534                  0                1   \n",
       "2                 0          0.240687                  0                0   \n",
       "3                 0         -0.108918                  0                0   \n",
       "4                 1         -0.365276                  0                1   \n",
       "\n",
       "   gender_Male  \n",
       "0            0  \n",
       "1            0  \n",
       "2            0  \n",
       "3            0  \n",
       "4            0  "
      ]
     },
     "execution_count": 21,
     "metadata": {},
     "output_type": "execute_result"
    }
   ],
   "source": [
    "numeric = ['credit_score', 'age', 'tenure', 'balance', 'num_of_products', 'estimated_salary']\n",
    "\n",
    "scaler = StandardScaler()\n",
    "scaler.fit(features[numeric])\n",
    "features[numeric] = scaler.transform(features[numeric])\n",
    "\n",
    "features.head()"
   ]
  },
  {
   "cell_type": "markdown",
   "metadata": {},
   "source": [
    "Разделим исходный набор данных на обучающую, валидационную и тестовую выборки с помощью функции train_test_split из библиотеки sklearn. Исходные данные разбиваем в соотношении 3:1:1, размер тестовой и валидационной выборок одинаков, следовательно, должно получиться соотношение 60%:20%:20%. Выведем размер полученных выборок с помощью shape."
   ]
  },
  {
   "cell_type": "code",
   "execution_count": 22,
   "metadata": {},
   "outputs": [
    {
     "name": "stdout",
     "output_type": "stream",
     "text": [
      "(6000, 11)\n",
      "(6000,)\n",
      "(2000, 11)\n",
      "(2000,)\n",
      "(2000, 11)\n",
      "(2000,)\n"
     ]
    }
   ],
   "source": [
    "features_train, features_valid, target_train, target_valid = train_test_split(features, target, test_size=0.4, random_state=12345)\n",
    "features_valid, features_test, target_valid, target_test = train_test_split(features_valid, target_valid, test_size=0.5, random_state=12345)\n",
    "\n",
    "print(features_train.shape) \n",
    "print(target_train.shape)\n",
    "print(features_valid.shape)\n",
    "print(target_valid.shape)\n",
    "print(features_test.shape)\n",
    "print(target_test.shape)"
   ]
  },
  {
   "cell_type": "markdown",
   "metadata": {},
   "source": [
    "Обучим модели без учета дисбаланса классов. Рассмотрим три модели решающего дерева, случайного леса и логистической регрессии. Рассчитаем агрегирующую метку F1-score"
   ]
  },
  {
   "cell_type": "code",
   "execution_count": 23,
   "metadata": {},
   "outputs": [
    {
     "data": {
      "text/plain": [
       "0.48727272727272725"
      ]
     },
     "execution_count": 23,
     "metadata": {},
     "output_type": "execute_result"
    }
   ],
   "source": [
    "model = DecisionTreeClassifier(random_state=1234) \n",
    "model.fit(features_train, target_train)\n",
    "predicted_valid = model.predict (features_valid)\n",
    "result = f1_score(target_valid, predicted_valid)\n",
    "result"
   ]
  },
  {
   "cell_type": "markdown",
   "metadata": {},
   "source": [
    "Рассчитаем метрику roc_auc"
   ]
  },
  {
   "cell_type": "code",
   "execution_count": 24,
   "metadata": {},
   "outputs": [
    {
     "data": {
      "text/plain": [
       "0.6753231630968007"
      ]
     },
     "execution_count": 24,
     "metadata": {},
     "output_type": "execute_result"
    }
   ],
   "source": [
    "prob_one_valid = model.predict_proba(features_valid)\n",
    "roc_auc = roc_auc_score(target_valid,prob_one_valid[:,1])\n",
    "roc_auc"
   ]
  },
  {
   "cell_type": "markdown",
   "metadata": {},
   "source": [
    "Построим таблицу ошибок"
   ]
  },
  {
   "cell_type": "code",
   "execution_count": 25,
   "metadata": {},
   "outputs": [
    {
     "data": {
      "text/plain": [
       "array([[1376,  206],\n",
       "       [ 217,  201]])"
      ]
     },
     "execution_count": 25,
     "metadata": {},
     "output_type": "execute_result"
    }
   ],
   "source": [
    "confusion_matrix(target_valid, predicted_valid)"
   ]
  },
  {
   "cell_type": "code",
   "execution_count": 26,
   "metadata": {},
   "outputs": [
    {
     "data": {
      "text/plain": [
       "0.5739910313901345"
      ]
     },
     "execution_count": 26,
     "metadata": {},
     "output_type": "execute_result"
    }
   ],
   "source": [
    "model = RandomForestClassifier(random_state=12345) \n",
    "model.fit(features_train, target_train)\n",
    "predicted_valid = model.predict (features_valid)\n",
    "result = f1_score(target_valid, predicted_valid)\n",
    "result"
   ]
  },
  {
   "cell_type": "code",
   "execution_count": 27,
   "metadata": {},
   "outputs": [
    {
     "data": {
      "text/plain": [
       "0.8399889002474004"
      ]
     },
     "execution_count": 27,
     "metadata": {},
     "output_type": "execute_result"
    }
   ],
   "source": [
    "prob_one_valid = model.predict_proba(features_valid)\n",
    "roc_auc = roc_auc_score(target_valid,prob_one_valid[:,1])\n",
    "roc_auc"
   ]
  },
  {
   "cell_type": "code",
   "execution_count": 28,
   "metadata": {},
   "outputs": [
    {
     "data": {
      "text/plain": [
       "array([[1523,   59],\n",
       "       [ 226,  192]])"
      ]
     },
     "execution_count": 28,
     "metadata": {},
     "output_type": "execute_result"
    }
   ],
   "source": [
    "confusion_matrix(target_valid, predicted_valid)"
   ]
  },
  {
   "cell_type": "code",
   "execution_count": 29,
   "metadata": {},
   "outputs": [
    {
     "data": {
      "text/plain": [
       "0.33108108108108103"
      ]
     },
     "execution_count": 29,
     "metadata": {},
     "output_type": "execute_result"
    }
   ],
   "source": [
    "model = LogisticRegression(random_state=12345, solver='liblinear') \n",
    "model.fit(features_train, target_train)\n",
    "predicted_valid = model.predict (features_valid)\n",
    "result = f1_score(target_valid, predicted_valid)\n",
    "result"
   ]
  },
  {
   "cell_type": "code",
   "execution_count": 30,
   "metadata": {},
   "outputs": [
    {
     "data": {
      "text/plain": [
       "0.7587497504824008"
      ]
     },
     "execution_count": 30,
     "metadata": {},
     "output_type": "execute_result"
    }
   ],
   "source": [
    "prob_one_valid = model.predict_proba(features_valid)\n",
    "roc_auc = roc_auc_score(target_valid,prob_one_valid[:,1])\n",
    "roc_auc"
   ]
  },
  {
   "cell_type": "code",
   "execution_count": 31,
   "metadata": {},
   "outputs": [
    {
     "data": {
      "text/plain": [
       "array([[1506,   76],\n",
       "       [ 320,   98]])"
      ]
     },
     "execution_count": 31,
     "metadata": {},
     "output_type": "execute_result"
    }
   ],
   "source": [
    "confusion_matrix(target_valid, predicted_valid)"
   ]
  },
  {
   "cell_type": "markdown",
   "metadata": {},
   "source": [
    "Таким образом, мы обучили три разные модели без учета дисбаланса. Наибольшее значение метрики F1-score и roc_auc_score было получено на модели случайного леса при гиперпараметрах."
   ]
  },
  {
   "cell_type": "markdown",
   "metadata": {},
   "source": [
    "## Борьба с дисбалансом"
   ]
  },
  {
   "cell_type": "markdown",
   "metadata": {},
   "source": [
    "Чтобы сделать сделать объекты редкого класса не такими редкими в данных, воспользуемся способом уменьшения выборки. Для начала разделим обучающую выборку на отрицательные и положительные объекты"
   ]
  },
  {
   "cell_type": "code",
   "execution_count": 32,
   "metadata": {},
   "outputs": [
    {
     "name": "stdout",
     "output_type": "stream",
     "text": [
      "(4804, 11)\n",
      "(4804,)\n",
      "(1196, 11)\n",
      "(1196,)\n"
     ]
    }
   ],
   "source": [
    "features_zeros = features_train[target_train == 0]\n",
    "features_ones = features_train[target_train == 1]\n",
    "target_zeros = target_train[target_train == 0]\n",
    "target_ones = target_train[target_train == 1]\n",
    "print(features_zeros.shape)\n",
    "print(target_zeros.shape)\n",
    "print(features_ones.shape)\n",
    "print(target_ones.shape)"
   ]
  },
  {
   "cell_type": "markdown",
   "metadata": {},
   "source": [
    "Случайным образом отбрасываем часть отрицательных объектов"
   ]
  },
  {
   "cell_type": "code",
   "execution_count": 33,
   "metadata": {},
   "outputs": [
    {
     "name": "stdout",
     "output_type": "stream",
     "text": [
      "(3603, 11)\n",
      "(3603,)\n"
     ]
    }
   ],
   "source": [
    "features_zeros_sample = features_zeros.sample(frac=0.75, random_state=12345)\n",
    "target_zeros_sample = target_zeros.sample(frac=0.75, random_state=12345)\n",
    "print(features_zeros_sample.shape)\n",
    "print(target_zeros_sample.shape)"
   ]
  },
  {
   "cell_type": "markdown",
   "metadata": {},
   "source": [
    "Объединим положительные и отрицательные признаки, а затем перемешаем их"
   ]
  },
  {
   "cell_type": "code",
   "execution_count": 34,
   "metadata": {},
   "outputs": [
    {
     "data": {
      "text/plain": [
       "(7191, 11)"
      ]
     },
     "execution_count": 34,
     "metadata": {},
     "output_type": "execute_result"
    }
   ],
   "source": [
    "features_balanced = pd.concat([features_zeros_sample]+[features_ones]*3)\n",
    "features_balanced.shape"
   ]
  },
  {
   "cell_type": "code",
   "execution_count": 35,
   "metadata": {},
   "outputs": [
    {
     "data": {
      "text/plain": [
       "(7191,)"
      ]
     },
     "execution_count": 35,
     "metadata": {},
     "output_type": "execute_result"
    }
   ],
   "source": [
    "target_balanced = pd.concat([target_zeros_sample]+[target_ones]*3)\n",
    "target_balanced.shape"
   ]
  },
  {
   "cell_type": "code",
   "execution_count": 36,
   "metadata": {},
   "outputs": [],
   "source": [
    "features_balanced, target_balanced = shuffle(features_balanced, target_balanced, random_state = 12345)"
   ]
  },
  {
   "cell_type": "markdown",
   "metadata": {},
   "source": [
    "Изучим модель случайного леса с числом деревьев от 10 до 50 и значениями гиперпаметра max_depth от 1 до 10"
   ]
  },
  {
   "cell_type": "code",
   "execution_count": 37,
   "metadata": {},
   "outputs": [
    {
     "name": "stdout",
     "output_type": "stream",
     "text": [
      "F1-score наилучшей модели на валидационной выборке при n_estimators=40 и max_depth=9: 0.6281512605042017\n"
     ]
    }
   ],
   "source": [
    "best_model = None\n",
    "best_result = 0\n",
    "best_est = 0\n",
    "best_depth = 0\n",
    "for est in range(10, 51, 10):\n",
    "    for depth in range(1, 11):\n",
    "        model = RandomForestClassifier(random_state=12345, n_estimators=est, max_depth=depth) \n",
    "        model.fit(features_balanced, target_balanced)\n",
    "        predicted_valid = model.predict (features_valid)\n",
    "        result = f1_score(target_valid, predicted_valid)\n",
    "        if result > best_result:\n",
    "            best_model = model\n",
    "            best_result = result\n",
    "            best_est = est\n",
    "            best_depth = depth\n",
    "        \n",
    "print(f\"F1-score наилучшей модели на валидационной выборке при n_estimators={best_est} и max_depth={best_depth}: {best_result}\")"
   ]
  },
  {
   "cell_type": "markdown",
   "metadata": {},
   "source": [
    "Здесь получили необходимое увеличение значения f1-score. Посмотрим, как это сработает на других моделях с разными гиперпараметрами"
   ]
  },
  {
   "cell_type": "code",
   "execution_count": 38,
   "metadata": {},
   "outputs": [
    {
     "name": "stdout",
     "output_type": "stream",
     "text": [
      "F1-score наилучшей модели на валидационной выборке при max_depth=6: 0.5501379944802208\n"
     ]
    }
   ],
   "source": [
    "best_model = None\n",
    "best_result = 0\n",
    "best_depth = 0\n",
    "for depth in range(1, 11):\n",
    "    model = DecisionTreeClassifier(random_state=12345, max_depth=depth) \n",
    "    model.fit(features_balanced, target_balanced)\n",
    "    predicted_valid = model.predict (features_valid)\n",
    "    result = f1_score(target_valid, predicted_valid)\n",
    "    if result > best_result:\n",
    "        best_model = model\n",
    "        best_result = result\n",
    "        best_depth = depth\n",
    "        \n",
    "print(f\"F1-score наилучшей модели на валидационной выборке при max_depth={best_depth}: {best_result}\")"
   ]
  },
  {
   "cell_type": "code",
   "execution_count": 39,
   "metadata": {},
   "outputs": [
    {
     "name": "stdout",
     "output_type": "stream",
     "text": [
      "F1-score наилучшей модели на валидационной выборке при min_samples_leaf=10: 0.5408062930186824\n"
     ]
    }
   ],
   "source": [
    "best_model = None\n",
    "best_result = 0\n",
    "best_samples = 0\n",
    "for samples in range(1, 11):\n",
    "    model = DecisionTreeClassifier(random_state=12345, min_samples_leaf=samples) \n",
    "    model.fit(features_balanced, target_balanced)\n",
    "    predicted_valid = model.predict (features_valid)\n",
    "    result = f1_score(target_valid, predicted_valid)\n",
    "    if result > best_result:\n",
    "        best_model = model\n",
    "        best_result = result\n",
    "        best_samples = samples\n",
    "        \n",
    "print(f\"F1-score наилучшей модели на валидационной выборке при min_samples_leaf={best_samples}: {best_result}\")"
   ]
  },
  {
   "cell_type": "code",
   "execution_count": 40,
   "metadata": {},
   "outputs": [
    {
     "name": "stdout",
     "output_type": "stream",
     "text": [
      "F1-score наилучшей модели на валидационной выборке при criterion='entropy':0.5105386416861827\n"
     ]
    }
   ],
   "source": [
    "best_model = None\n",
    "best_result = 0\n",
    "best_criterion = None\n",
    "list_crit=['gini', 'entropy']\n",
    "for n in list_crit:\n",
    "    model = DecisionTreeClassifier(random_state=12345, criterion=n) \n",
    "    model.fit(features_balanced, target_balanced)\n",
    "    predicted_valid = model.predict (features_valid)\n",
    "    result = f1_score(target_valid, predicted_valid)\n",
    "    if result > best_result:\n",
    "        best_model = model\n",
    "        best_result = result\n",
    "        best_criterion = n\n",
    "print(f\"F1-score наилучшей модели на валидационной выборке при criterion='{best_criterion}':{best_result}\")"
   ]
  },
  {
   "cell_type": "markdown",
   "metadata": {},
   "source": [
    "Исследуем обучающую и валидационную выборки с помощью модели логистической регрессии, меняя гиперпараметр class_weight"
   ]
  },
  {
   "cell_type": "code",
   "execution_count": 41,
   "metadata": {},
   "outputs": [
    {
     "name": "stdout",
     "output_type": "stream",
     "text": [
      "F1-score наилучшей модели на валидационной выборке при class_weight=None:0.48671808054841476\n"
     ]
    }
   ],
   "source": [
    "best_model = None\n",
    "best_result = 0\n",
    "best_class_weight = None \n",
    "class_weight_list = [None, 'balanced']\n",
    "for c in class_weight_list:\n",
    "    model = LogisticRegression(random_state=12345, solver='liblinear', class_weight=c) \n",
    "    model.fit(features_balanced, target_balanced)\n",
    "    predicted_valid = model.predict (features_valid)\n",
    "    result = f1_score(target_valid, predicted_valid)\n",
    "    if result > best_result:\n",
    "            best_model = model\n",
    "            best_result = result\n",
    "            best_class_weight = c\n",
    "            \n",
    "            \n",
    "print(f\"F1-score наилучшей модели на валидационной выборке при class_weight={best_class_weight}:{best_result}\")"
   ]
  },
  {
   "cell_type": "markdown",
   "metadata": {},
   "source": [
    "Лучший результат показала модель случайного леса. Найдем лучшее значение порога для модели случайного леса."
   ]
  },
  {
   "cell_type": "code",
   "execution_count": 42,
   "metadata": {},
   "outputs": [
    {
     "name": "stdout",
     "output_type": "stream",
     "text": [
      "Порог = 0.00 | Точность = 0.209, Полнота = 1.000 | F1-мера = 0.346, auc_roc = 0.500000\n",
      "Порог = 0.05 | Точность = 0.212, Полнота = 0.998 | F1-мера = 0.349, auc_roc = 0.508285\n",
      "Порог = 0.10 | Точность = 0.236, Полнота = 0.998 | F1-мера = 0.382, auc_roc = 0.572761\n",
      "Порог = 0.15 | Точность = 0.257, Полнота = 0.959 | F1-мера = 0.405, auc_roc = 0.612724\n",
      "Порог = 0.20 | Точность = 0.280, Полнота = 0.945 | F1-мера = 0.432, auc_roc = 0.651376\n",
      "Порог = 0.25 | Точность = 0.313, Полнота = 0.919 | F1-мера = 0.467, auc_roc = 0.693527\n",
      "Порог = 0.30 | Точность = 0.349, Полнота = 0.885 | F1-мера = 0.501, auc_roc = 0.724505\n",
      "Порог = 0.35 | Точность = 0.394, Полнота = 0.852 | F1-мера = 0.539, auc_roc = 0.752955\n",
      "Порог = 0.40 | Точность = 0.444, Полнота = 0.811 | F1-мера = 0.574, auc_roc = 0.771495\n",
      "Порог = 0.45 | Точность = 0.490, Полнота = 0.744 | F1-мера = 0.591, auc_roc = 0.769608\n",
      "Порог = 0.50 | Точность = 0.563, Полнота = 0.708 | F1-мера = 0.627, auc_roc = 0.781374\n",
      "Порог = 0.55 | Точность = 0.608, Полнота = 0.648 | F1-мера = 0.627, auc_roc = 0.768853\n",
      "Порог = 0.60 | Точность = 0.651, Полнота = 0.579 | F1-мера = 0.613, auc_roc = 0.748386\n",
      "Порог = 0.65 | Точность = 0.719, Полнота = 0.538 | F1-мера = 0.616, auc_roc = 0.741326\n",
      "Порог = 0.70 | Точность = 0.787, Полнота = 0.459 | F1-мера = 0.580, auc_roc = 0.713230\n",
      "Порог = 0.75 | Точность = 0.825, Полнота = 0.407 | F1-мера = 0.545, auc_roc = 0.691971\n",
      "Порог = 0.80 | Точность = 0.877, Полнота = 0.342 | F1-мера = 0.492, auc_roc = 0.664732\n",
      "Порог = 0.85 | Точность = 0.878, Полнота = 0.242 | F1-мера = 0.379, auc_roc = 0.616389\n",
      "Порог = 0.90 | Точность = 0.901, Полнота = 0.153 | F1-мера = 0.262, auc_roc = 0.574343\n",
      "Лучшее значение порога: 0.55, f1-score=0.6273148148148147\n"
     ]
    }
   ],
   "source": [
    "model = RandomForestClassifier(random_state=12345, n_estimators=50, max_depth=9) \n",
    "model.fit(features_balanced, target_balanced)\n",
    "probabilities_valid = model.predict_proba(features_valid)\n",
    "probabilities_one_valid = probabilities_valid[:, 1]\n",
    "best_score = 0\n",
    "best_threshold = 0\n",
    "\n",
    "for threshold in np.arange(0, 0.95, 0.05):\n",
    "    predicted_valid = probabilities_one_valid > threshold\n",
    "    precision = precision_score(target_valid, predicted_valid)\n",
    "    recall = recall_score(target_valid, predicted_valid)\n",
    "    result = f1_score(target_valid, predicted_valid)\n",
    "    auc_roc = roc_auc_score(target_valid, predicted_valid)\n",
    "\n",
    "\n",
    "    print(\"Порог = {:.2f} | Точность = {:.3f}, Полнота = {:.3f} | F1-мера = {:.3f}, auc_roc = {:3f}\".format(\n",
    "        threshold, precision, recall, result, auc_roc))\n",
    "    if best_score < result:\n",
    "        best_score = result\n",
    "        best_threshold = threshold\n",
    "print(f\"Лучшее значение порога: {best_threshold}, f1-score={best_score}\")"
   ]
  },
  {
   "cell_type": "markdown",
   "metadata": {},
   "source": [
    " Визуализируем полученный результат, построив PR- и ROC-кривые"
   ]
  },
  {
   "cell_type": "code",
   "execution_count": 43,
   "metadata": {},
   "outputs": [
    {
     "data": {
      "text/plain": [
       "Text(0.5, 1.0, 'PR-кривая')"
      ]
     },
     "execution_count": 43,
     "metadata": {},
     "output_type": "execute_result"
    },
    {
     "data": {
      "image/png": "[encoded data removed]",
      "text/plain": [
       "<Figure size 1000x1000 with 1 Axes>"
      ]
     },
     "metadata": {},
     "output_type": "display_data"
    }
   ],
   "source": [
    "precision, recall, thresholds = precision_recall_curve(\n",
    "        target_valid, probabilities_valid[:, 1]\n",
    "    )    \n",
    "plt.figure(figsize=(10, 10))\n",
    "plt.step(recall, precision, where='post')\n",
    "plt.xlabel('Recall')\n",
    "plt.ylabel('Precision')\n",
    "plt.ylim([0.0, 1.05])\n",
    "plt.xlim([0.0, 1.0])\n",
    "plt.title('PR-кривая')"
   ]
  },
  {
   "cell_type": "code",
   "execution_count": 44,
   "metadata": {},
   "outputs": [
    {
     "data": {
      "image/png": "[encoded data removed]",
      "text/plain": [
       "<Figure size 1000x1000 with 1 Axes>"
      ]
     },
     "metadata": {},
     "output_type": "display_data"
    }
   ],
   "source": [
    " fpr, tpr, thresholds = roc_curve(target_valid, probabilities_one_valid)\n",
    "    \n",
    "plt.figure(figsize=(10, 10))\n",
    "plt.plot(fpr, tpr, linestyle='-')\n",
    "plt.plot([0, 1], [0, 1], linestyle='--')\n",
    "plt.xlim([0.0, 1.0])\n",
    "plt.ylim([0.0, 1.0])\n",
    "plt.xlabel('False Positive Rate')\n",
    "plt.ylabel('True Positive Rate')\n",
    "plt.title('ROC-кривая')\n",
    "   \n",
    "plt.show()"
   ]
  },
  {
   "cell_type": "markdown",
   "metadata": {},
   "source": [
    "Лучший результат показала модель RandomForestClassifier с измененным порогом при n_estimators=40, max_depth=9. Лучшее значение метрики f1-score было получено при пороге = 0.55. "
   ]
  },
  {
   "cell_type": "markdown",
   "metadata": {},
   "source": [
    "## Тестирование модели"
   ]
  },
  {
   "cell_type": "markdown",
   "metadata": {},
   "source": [
    "\n"
   ]
  },
  {
   "cell_type": "markdown",
   "metadata": {},
   "source": [
    "Проведем финальное тестирование на данных из тестовой выборки"
   ]
  },
  {
   "cell_type": "code",
   "execution_count": 45,
   "metadata": {},
   "outputs": [
    {
     "data": {
      "text/plain": [
       "0.6020408163265305"
      ]
     },
     "execution_count": 45,
     "metadata": {},
     "output_type": "execute_result"
    }
   ],
   "source": [
    "model_final = RandomForestClassifier (random_state=12345, n_estimators = 40, max_depth=9)\n",
    "model_final.fit(features_balanced, target_balanced)\n",
    "predicted_final = model_final.predict(features_test)\n",
    "f1_final = f1_score(target_test, predicted_final)\n",
    "f1_final"
   ]
  },
  {
   "cell_type": "markdown",
   "metadata": {},
   "source": [
    "Мы провели финальное тестирование, исследовали три различные модели решающее дерево, случайный лес и логистическую регрессию, оценили, при каком значении порога для каждой из данных моделей достигаются наилучшие метрики f1_score и auc_roc. По результатам всех проверок наилучший результат показала модель RandomForestClassifier. Целевая метрика для нее на тестовой выборке составила 0.60"
   ]
  },
  {
   "cell_type": "markdown",
   "metadata": {},
   "source": [
    "## Чек-лист готовности проекта"
   ]
  },
  {
   "cell_type": "markdown",
   "metadata": {},
   "source": [
    "Поставьте 'x' в выполненных пунктах. Далее нажмите Shift+Enter."
   ]
  },
  {
   "cell_type": "markdown",
   "metadata": {},
   "source": [
    "- [x]  Jupyter Notebook открыт\n",
    "- [ ]  Весь код выполняется без ошибок\n",
    "- [ ]  Ячейки с кодом расположены в порядке исполнения\n",
    "- [ ]  Выполнен шаг 1: данные подготовлены\n",
    "- [ ]  Выполнен шаг 2: задача исследована\n",
    "    - [ ]  Исследован баланс классов\n",
    "    - [ ]  Изучены модели без учёта дисбаланса\n",
    "    - [ ]  Написаны выводы по результатам исследования\n",
    "- [ ]  Выполнен шаг 3: учтён дисбаланс\n",
    "    - [ ]  Применено несколько способов борьбы с дисбалансом\n",
    "    - [ ]  Написаны выводы по результатам исследования\n",
    "- [ ]  Выполнен шаг 4: проведено тестирование\n",
    "- [ ]  Удалось достичь *F1*-меры не менее 0.59\n",
    "- [ ]  Исследована метрика *AUC-ROC*"
   ]
  },
  {
   "cell_type": "code",
   "execution_count": null,
   "metadata": {},
   "outputs": [],
   "source": []
  }
 ],
 "metadata": {
  "ExecuteTimeLog": [
   {
    "duration": 1902,
    "start_time": "2023-03-31T12:22:39.999Z"
   },
   {
    "duration": 174,
    "start_time": "2023-03-31T12:22:41.913Z"
   },
   {
    "duration": 18,
    "start_time": "2023-03-31T12:22:42.090Z"
   },
   {
    "duration": 19,
    "start_time": "2023-03-31T12:22:42.113Z"
   },
   {
    "duration": 5,
    "start_time": "2023-03-31T12:22:42.140Z"
   },
   {
    "duration": 10,
    "start_time": "2023-03-31T12:22:42.148Z"
   },
   {
    "duration": 1194,
    "start_time": "2023-03-31T12:22:42.160Z"
   },
   {
    "duration": 0,
    "start_time": "2023-03-31T12:22:43.358Z"
   },
   {
    "duration": 0,
    "start_time": "2023-03-31T12:22:43.360Z"
   },
   {
    "duration": 0,
    "start_time": "2023-03-31T12:22:43.362Z"
   },
   {
    "duration": 0,
    "start_time": "2023-03-31T12:22:43.365Z"
   },
   {
    "duration": 0,
    "start_time": "2023-03-31T12:22:43.366Z"
   },
   {
    "duration": 0,
    "start_time": "2023-03-31T12:22:43.368Z"
   },
   {
    "duration": 0,
    "start_time": "2023-03-31T12:22:43.369Z"
   },
   {
    "duration": 0,
    "start_time": "2023-03-31T12:22:43.371Z"
   },
   {
    "duration": 0,
    "start_time": "2023-03-31T12:22:43.372Z"
   },
   {
    "duration": 0,
    "start_time": "2023-03-31T12:22:43.374Z"
   },
   {
    "duration": 0,
    "start_time": "2023-03-31T12:22:43.375Z"
   },
   {
    "duration": 0,
    "start_time": "2023-03-31T12:22:43.377Z"
   },
   {
    "duration": 1878,
    "start_time": "2023-03-31T12:24:00.532Z"
   },
   {
    "duration": 55,
    "start_time": "2023-03-31T12:24:06.393Z"
   },
   {
    "duration": 34,
    "start_time": "2023-03-31T12:24:11.574Z"
   },
   {
    "duration": 6,
    "start_time": "2023-03-31T12:24:30.324Z"
   },
   {
    "duration": 60,
    "start_time": "2023-03-31T12:24:30.333Z"
   },
   {
    "duration": 31,
    "start_time": "2023-03-31T12:24:30.396Z"
   },
   {
    "duration": 20,
    "start_time": "2023-03-31T12:24:30.435Z"
   },
   {
    "duration": 20,
    "start_time": "2023-03-31T12:24:30.458Z"
   },
   {
    "duration": 47,
    "start_time": "2023-03-31T12:24:30.481Z"
   },
   {
    "duration": 168,
    "start_time": "2023-03-31T12:24:30.530Z"
   },
   {
    "duration": 20,
    "start_time": "2023-03-31T12:24:30.702Z"
   },
   {
    "duration": 42,
    "start_time": "2023-03-31T12:24:30.724Z"
   },
   {
    "duration": 39,
    "start_time": "2023-03-31T12:24:30.768Z"
   },
   {
    "duration": 26,
    "start_time": "2023-03-31T12:24:30.814Z"
   },
   {
    "duration": 8,
    "start_time": "2023-03-31T12:24:30.842Z"
   },
   {
    "duration": 77,
    "start_time": "2023-03-31T12:24:30.855Z"
   },
   {
    "duration": 2489,
    "start_time": "2023-03-31T12:24:30.936Z"
   },
   {
    "duration": 7,
    "start_time": "2023-03-31T12:24:33.429Z"
   },
   {
    "duration": 9,
    "start_time": "2023-03-31T12:24:33.438Z"
   },
   {
    "duration": 1786,
    "start_time": "2023-03-31T12:25:09.677Z"
   },
   {
    "duration": 56,
    "start_time": "2023-03-31T12:25:11.465Z"
   },
   {
    "duration": 26,
    "start_time": "2023-03-31T12:25:11.524Z"
   },
   {
    "duration": 16,
    "start_time": "2023-03-31T12:25:11.553Z"
   },
   {
    "duration": 8,
    "start_time": "2023-03-31T12:25:11.571Z"
   },
   {
    "duration": 25,
    "start_time": "2023-03-31T12:25:11.580Z"
   },
   {
    "duration": 211,
    "start_time": "2023-03-31T12:25:11.607Z"
   },
   {
    "duration": 18,
    "start_time": "2023-03-31T12:25:11.820Z"
   },
   {
    "duration": 12,
    "start_time": "2023-03-31T12:25:11.841Z"
   },
   {
    "duration": 6,
    "start_time": "2023-03-31T12:25:11.857Z"
   },
   {
    "duration": 16,
    "start_time": "2023-03-31T12:25:11.865Z"
   },
   {
    "duration": 8,
    "start_time": "2023-03-31T12:25:11.904Z"
   },
   {
    "duration": 82,
    "start_time": "2023-03-31T12:25:11.918Z"
   },
   {
    "duration": 2444,
    "start_time": "2023-03-31T12:25:12.002Z"
   },
   {
    "duration": 7,
    "start_time": "2023-03-31T12:25:14.448Z"
   },
   {
    "duration": 12,
    "start_time": "2023-03-31T12:25:14.457Z"
   },
   {
    "duration": 14,
    "start_time": "2023-03-31T12:25:38.521Z"
   },
   {
    "duration": 7,
    "start_time": "2023-03-31T12:25:43.529Z"
   },
   {
    "duration": 4,
    "start_time": "2023-03-31T12:25:46.387Z"
   },
   {
    "duration": 15,
    "start_time": "2023-03-31T12:25:49.622Z"
   },
   {
    "duration": 43,
    "start_time": "2023-03-31T12:26:41.302Z"
   },
   {
    "duration": 17,
    "start_time": "2023-03-31T12:27:20.005Z"
   },
   {
    "duration": 39,
    "start_time": "2023-03-31T12:50:24.340Z"
   },
   {
    "duration": 801,
    "start_time": "2023-03-31T12:50:53.690Z"
   },
   {
    "duration": 24,
    "start_time": "2023-03-31T12:51:21.312Z"
   },
   {
    "duration": 98,
    "start_time": "2023-03-31T12:54:25.720Z"
   },
   {
    "duration": 14,
    "start_time": "2023-03-31T12:54:43.621Z"
   },
   {
    "duration": 1511,
    "start_time": "2023-03-31T12:55:13.116Z"
   },
   {
    "duration": 37,
    "start_time": "2023-03-31T12:55:14.629Z"
   },
   {
    "duration": 20,
    "start_time": "2023-03-31T12:55:14.668Z"
   },
   {
    "duration": 23,
    "start_time": "2023-03-31T12:55:14.690Z"
   },
   {
    "duration": 10,
    "start_time": "2023-03-31T12:55:14.721Z"
   },
   {
    "duration": 6,
    "start_time": "2023-03-31T12:55:14.733Z"
   },
   {
    "duration": 146,
    "start_time": "2023-03-31T12:55:14.740Z"
   },
   {
    "duration": 29,
    "start_time": "2023-03-31T12:55:14.888Z"
   },
   {
    "duration": 11,
    "start_time": "2023-03-31T12:55:14.920Z"
   },
   {
    "duration": 5,
    "start_time": "2023-03-31T12:55:14.933Z"
   },
   {
    "duration": 13,
    "start_time": "2023-03-31T12:55:14.939Z"
   },
   {
    "duration": 4,
    "start_time": "2023-03-31T12:55:14.954Z"
   },
   {
    "duration": 70,
    "start_time": "2023-03-31T12:55:14.960Z"
   },
   {
    "duration": 1990,
    "start_time": "2023-03-31T12:55:15.033Z"
   },
   {
    "duration": 8,
    "start_time": "2023-03-31T12:55:17.026Z"
   },
   {
    "duration": 11,
    "start_time": "2023-03-31T12:55:17.036Z"
   },
   {
    "duration": 12,
    "start_time": "2023-03-31T12:55:17.049Z"
   },
   {
    "duration": 9,
    "start_time": "2023-03-31T12:55:17.063Z"
   },
   {
    "duration": 36,
    "start_time": "2023-03-31T12:55:17.073Z"
   },
   {
    "duration": 12,
    "start_time": "2023-03-31T12:55:17.111Z"
   },
   {
    "duration": 34,
    "start_time": "2023-03-31T12:55:17.125Z"
   },
   {
    "duration": 10,
    "start_time": "2023-03-31T12:55:17.160Z"
   },
   {
    "duration": 42,
    "start_time": "2023-03-31T12:55:35.887Z"
   },
   {
    "duration": 10,
    "start_time": "2023-03-31T12:56:16.872Z"
   },
   {
    "duration": 800,
    "start_time": "2023-03-31T12:56:26.742Z"
   },
   {
    "duration": 63,
    "start_time": "2023-03-31T12:56:34.577Z"
   },
   {
    "duration": 26,
    "start_time": "2023-03-31T12:56:39.656Z"
   },
   {
    "duration": 15,
    "start_time": "2023-03-31T12:56:49.636Z"
   },
   {
    "duration": 1490,
    "start_time": "2023-03-31T13:01:52.910Z"
   },
   {
    "duration": 41,
    "start_time": "2023-03-31T13:01:54.402Z"
   },
   {
    "duration": 20,
    "start_time": "2023-03-31T13:01:54.445Z"
   },
   {
    "duration": 13,
    "start_time": "2023-03-31T13:01:54.467Z"
   },
   {
    "duration": 9,
    "start_time": "2023-03-31T13:01:54.482Z"
   },
   {
    "duration": 26,
    "start_time": "2023-03-31T13:01:54.493Z"
   },
   {
    "duration": 148,
    "start_time": "2023-03-31T13:01:54.521Z"
   },
   {
    "duration": 10,
    "start_time": "2023-03-31T13:01:54.671Z"
   },
   {
    "duration": 39,
    "start_time": "2023-03-31T13:01:54.682Z"
   },
   {
    "duration": 5,
    "start_time": "2023-03-31T13:01:54.723Z"
   },
   {
    "duration": 14,
    "start_time": "2023-03-31T13:01:54.730Z"
   },
   {
    "duration": 4,
    "start_time": "2023-03-31T13:01:54.746Z"
   },
   {
    "duration": 60,
    "start_time": "2023-03-31T13:01:54.752Z"
   },
   {
    "duration": 1972,
    "start_time": "2023-03-31T13:01:54.814Z"
   },
   {
    "duration": 6,
    "start_time": "2023-03-31T13:01:56.788Z"
   },
   {
    "duration": 9,
    "start_time": "2023-03-31T13:01:56.803Z"
   },
   {
    "duration": 18,
    "start_time": "2023-03-31T13:01:56.816Z"
   },
   {
    "duration": 7,
    "start_time": "2023-03-31T13:01:56.836Z"
   },
   {
    "duration": 4,
    "start_time": "2023-03-31T13:01:56.844Z"
   },
   {
    "duration": 11,
    "start_time": "2023-03-31T13:01:56.850Z"
   },
   {
    "duration": 56,
    "start_time": "2023-03-31T13:01:56.863Z"
   },
   {
    "duration": 10,
    "start_time": "2023-03-31T13:01:56.921Z"
   },
   {
    "duration": 44,
    "start_time": "2023-03-31T13:02:11.856Z"
   },
   {
    "duration": 13,
    "start_time": "2023-03-31T13:02:17.800Z"
   },
   {
    "duration": 8,
    "start_time": "2023-03-31T13:02:37.323Z"
   },
   {
    "duration": 812,
    "start_time": "2023-03-31T13:03:26.363Z"
   },
   {
    "duration": 58,
    "start_time": "2023-03-31T13:03:29.478Z"
   },
   {
    "duration": 7,
    "start_time": "2023-03-31T13:03:42.625Z"
   },
   {
    "duration": 28,
    "start_time": "2023-03-31T13:03:56.527Z"
   },
   {
    "duration": 11,
    "start_time": "2023-03-31T13:03:59.831Z"
   },
   {
    "duration": 7,
    "start_time": "2023-03-31T13:04:06.917Z"
   },
   {
    "duration": 9,
    "start_time": "2023-03-31T13:11:00.249Z"
   },
   {
    "duration": 7,
    "start_time": "2023-03-31T13:12:28.219Z"
   },
   {
    "duration": 7,
    "start_time": "2023-03-31T13:14:54.182Z"
   },
   {
    "duration": 6,
    "start_time": "2023-03-31T13:14:56.322Z"
   },
   {
    "duration": 7,
    "start_time": "2023-03-31T13:15:38.754Z"
   },
   {
    "duration": 8773,
    "start_time": "2023-03-31T13:16:35.184Z"
   },
   {
    "duration": 195,
    "start_time": "2023-03-31T13:18:28.817Z"
   },
   {
    "duration": 335,
    "start_time": "2023-03-31T13:18:51.750Z"
   },
   {
    "duration": 79,
    "start_time": "2023-03-31T13:19:16.998Z"
   },
   {
    "duration": 105,
    "start_time": "2023-03-31T13:20:20.517Z"
   },
   {
    "duration": 482,
    "start_time": "2023-03-31T13:21:30.783Z"
   },
   {
    "duration": 158,
    "start_time": "2023-03-31T13:22:42.236Z"
   },
   {
    "duration": 191,
    "start_time": "2023-03-31T13:23:07.882Z"
   },
   {
    "duration": 269,
    "start_time": "2023-03-31T13:27:08.887Z"
   }
  ],
  "kernelspec": {
   "display_name": "Python 3 (ipykernel)",
   "language": "python",
   "name": "python3"
  },
  "language_info": {
   "codemirror_mode": {
    "name": "ipython",
    "version": 3
   },
   "file_extension": ".py",
   "mimetype": "text/x-python",
   "name": "python",
   "nbconvert_exporter": "python",
   "pygments_lexer": "ipython3",
   "version": "3.9.13"
  },
  "toc": {
   "base_numbering": 1,
   "nav_menu": {},
   "number_sections": true,
   "sideBar": true,
   "skip_h1_title": true,
   "title_cell": "Содержание",
   "title_sidebar": "Contents",
   "toc_cell": true,
   "toc_position": {},
   "toc_section_display": true,
   "toc_window_display": false
  }
 },
 "nbformat": 4,
 "nbformat_minor": 2
}
